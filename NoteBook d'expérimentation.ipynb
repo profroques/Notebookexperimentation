{
 "cells": [
  {
   "cell_type": "markdown",
   "metadata": {},
   "source": [
    "<h1> NoteBook d'expérimentation</h1>\n",
    "\n",
    "<h2>\n",
    " Ce notebook est mis à disposition pour tester des scripts.<br>\n",
    " Les bibliothèques numpy et matplotlib.pyplot sont disponibles. \n",
    "<br>\n",
    "    </h2>\n",
    "<h4>\n",
    "    <p>\n",
    "Si l'usage de ce NoteBook a pour objectif une restitution d'un programme au format .py :\n",
    "<br>\n",
    "<li>Ne pas oublier de mettre dans les commentaires le nom de l'auteur.trice - (il est aussi possible de préciser la date et le contexte de la rédaction du script comme \"épreuve numérique\", \"entrainement\", etc.)</li>\n",
    "<br>\n",
    "<li> Pour enregistrer le fichier : Fichier>Download as>Python.py </li>\n",
    "</p>\n",
    "</h4>\n",
    "<h3>    \n",
    "Bon codage !\n",
    "</h3>\n"
   ]
  },
  {
   "cell_type": "code",
   "execution_count": null,
   "metadata": {},
   "outputs": [],
   "source": [
    "\"\"\"\n",
    "Nom de l'auteur/l'autrice du programme\n",
    "Date : \n",
    "Contexte de la rédaction du script :\n",
    "\"\"\"\n",
    "\n",
    "\n"
   ]
  },
  {
   "cell_type": "code",
   "execution_count": null,
   "metadata": {},
   "outputs": [],
   "source": []
  }
 ],
 "metadata": {
  "kernelspec": {
   "display_name": "Python 3 (ipykernel)",
   "language": "python",
   "name": "python3"
  },
  "language_info": {
   "codemirror_mode": {
    "name": "ipython",
    "version": 3
   },
   "file_extension": ".py",
   "mimetype": "text/x-python",
   "name": "python",
   "nbconvert_exporter": "python",
   "pygments_lexer": "ipython3",
   "version": "3.11.0"
  }
 },
 "nbformat": 4,
 "nbformat_minor": 2
}
